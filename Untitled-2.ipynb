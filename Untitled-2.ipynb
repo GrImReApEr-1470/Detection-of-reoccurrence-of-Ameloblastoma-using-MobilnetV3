{
 "cells": [
  {
   "cell_type": "code",
   "execution_count": 5,
   "metadata": {},
   "outputs": [],
   "source": [
    "import os\n",
    "import random\n",
    "import shutil\n",
    "\n",
    "# Set the paths to the two folders containing the JPEG files\n",
    "class1_path = 'non_reccurant'\n",
    "class2_path = 'reccurant'\n",
    "\n",
    "# Set the path to the output folders for the training and validation sets\n",
    "train_path = 'train'\n",
    "val_path = 'val'\n",
    "\n",
    "# Set the training/validation split ratio\n",
    "split_ratio = 0.2\n",
    "\n",
    "# Create the output folders if they don't exist\n",
    "os.makedirs(os.path.join(train_path, 'class1'), exist_ok=True)\n",
    "os.makedirs(os.path.join(train_path, 'class2'), exist_ok=True)\n",
    "os.makedirs(os.path.join(val_path, 'class1'), exist_ok=True)\n",
    "os.makedirs(os.path.join(val_path, 'class2'), exist_ok=True)\n",
    "\n",
    "# Loop over the JPEG files in the first folder (class 1) and split them into training and validation sets\n",
    "for filename in os.listdir(class1_path):\n",
    "    if filename.endswith('.JPG'):\n",
    "        src_path = os.path.join(class1_path, filename)\n",
    "        if random.random() < split_ratio:\n",
    "            dst_path = os.path.join(val_path, 'class1', filename)\n",
    "        else:\n",
    "            dst_path = os.path.join(train_path, 'class1', filename)\n",
    "        shutil.copyfile(src_path, dst_path)\n",
    "\n",
    "# Loop over the JPEG files in the second folder (class 2) and split them into training and validation sets\n",
    "for filename in os.listdir(class2_path):\n",
    "    if filename.endswith('.JPG'):\n",
    "        src_path = os.path.join(class2_path, filename)\n",
    "        if random.random() < split_ratio:\n",
    "            dst_path = os.path.join(val_path, 'class2', filename)\n",
    "        else:\n",
    "            dst_path = os.path.join(train_path, 'class2', filename)\n",
    "        shutil.copyfile(src_path, dst_path)\n"
   ]
  },
  {
   "cell_type": "code",
   "execution_count": 12,
   "metadata": {},
   "outputs": [],
   "source": [
    "from PIL import Image\n",
    "import os\n",
    "\n",
    "# Define the path of the directory containing the original images\n",
    "input_dir = 'val/class1/'\n",
    "\n",
    "# Define the path of the directory where the resized images will be saved\n",
    "output_dir = 'val1/class1/'\n",
    "\n",
    "# Define the target size for the images\n",
    "target_size = (224, 224)\n",
    "\n",
    "# Loop through all the image files in the input directory\n",
    "for filename in os.listdir(input_dir):\n",
    "    try:\n",
    "        # Open the image file\n",
    "        img = Image.open(os.path.join(input_dir, filename))\n",
    "\n",
    "        # Resize the image\n",
    "        img = img.resize(target_size)\n",
    "\n",
    "        # Save the resized image to the output directory with the same filename\n",
    "        img.save(os.path.join(output_dir, filename))\n",
    "    except OSError as e:\n",
    "        print(f\"Skipping {filename}: {e}\")\n"
   ]
  }
 ],
 "metadata": {
  "kernelspec": {
   "display_name": "Python 3",
   "language": "python",
   "name": "python3"
  },
  "language_info": {
   "codemirror_mode": {
    "name": "ipython",
    "version": 3
   },
   "file_extension": ".py",
   "mimetype": "text/x-python",
   "name": "python",
   "nbconvert_exporter": "python",
   "pygments_lexer": "ipython3",
   "version": "3.10.0"
  },
  "orig_nbformat": 4
 },
 "nbformat": 4,
 "nbformat_minor": 2
}
